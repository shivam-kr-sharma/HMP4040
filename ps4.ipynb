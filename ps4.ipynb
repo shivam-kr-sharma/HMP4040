{
 "cells": [
  {
   "cell_type": "markdown",
   "metadata": {},
   "source": [
    "## Example Template for checking every command for the device.\n"
   ]
  },
  {
   "cell_type": "code",
   "execution_count": null,
   "metadata": {},
   "outputs": [],
   "source": []
  },
  {
   "cell_type": "code",
   "execution_count": 43,
   "metadata": {},
   "outputs": [],
   "source": [
    "import time\n",
    "import pyvisa"
   ]
  },
  {
   "cell_type": "code",
   "execution_count": 49,
   "metadata": {},
   "outputs": [
    {
     "name": "stdout",
     "output_type": "stream",
     "text": [
      "SerialInstrument at ASRL3::INSTR\n"
     ]
    }
   ],
   "source": [
    "\n",
    "rm = pyvisa.ResourceManager()\n",
    "hmp4040 = rm.open_resource('ASRL3::INSTR')\n",
    "print(hmp4040)"
   ]
  },
  {
   "cell_type": "code",
   "execution_count": 45,
   "metadata": {},
   "outputs": [],
   "source": [
    "hmp4040.timeout = 20000"
   ]
  },
  {
   "attachments": {},
   "cell_type": "markdown",
   "metadata": {},
   "source": [
    "Resets the values of voltages and currents to its default value\n"
   ]
  },
  {
   "cell_type": "code",
   "execution_count": 46,
   "metadata": {},
   "outputs": [
    {
     "data": {
      "text/plain": [
       "6"
      ]
     },
     "execution_count": 46,
     "metadata": {},
     "output_type": "execute_result"
    }
   ],
   "source": [
    "hmp4040.write('*RST')"
   ]
  },
  {
   "attachments": {},
   "cell_type": "markdown",
   "metadata": {},
   "source": [
    "Selects a channel by its number"
   ]
  },
  {
   "cell_type": "code",
   "execution_count": 6,
   "metadata": {},
   "outputs": [
    {
     "data": {
      "text/plain": [
       "13"
      ]
     },
     "execution_count": 6,
     "metadata": {},
     "output_type": "execute_result"
    }
   ],
   "source": [
    "hmp4040.write('INST:NSEL 3')"
   ]
  },
  {
   "cell_type": "code",
   "execution_count": 54,
   "metadata": {},
   "outputs": [],
   "source": [
    "hmp4040.close()"
   ]
  },
  {
   "attachments": {},
   "cell_type": "markdown",
   "metadata": {},
   "source": [
    "Returns the selected channel"
   ]
  },
  {
   "cell_type": "code",
   "execution_count": 10,
   "metadata": {},
   "outputs": [
    {
     "data": {
      "text/plain": [
       "'3\\n'"
      ]
     },
     "execution_count": 10,
     "metadata": {},
     "output_type": "execute_result"
    }
   ],
   "source": [
    "hmp4040.query('INST:NSEL?')"
   ]
  },
  {
   "cell_type": "code",
   "execution_count": 11,
   "metadata": {},
   "outputs": [
    {
     "data": {
      "text/plain": [
       "'OUTP3\\n'"
      ]
     },
     "execution_count": 11,
     "metadata": {},
     "output_type": "execute_result"
    }
   ],
   "source": [
    "hmp4040.query('INST?')"
   ]
  },
  {
   "attachments": {},
   "cell_type": "markdown",
   "metadata": {},
   "source": [
    "## Modifying The Voltage"
   ]
  },
  {
   "attachments": {},
   "cell_type": "markdown",
   "metadata": {},
   "source": [
    "You can modify the voltage of the above selected channel to any value between maximum to minimum"
   ]
  },
  {
   "cell_type": "code",
   "execution_count": 50,
   "metadata": {},
   "outputs": [
    {
     "data": {
      "text/plain": [
       "8"
      ]
     },
     "execution_count": 50,
     "metadata": {},
     "output_type": "execute_result"
    }
   ],
   "source": [
    "hmp4040.write('INST OUT4')\n",
    "\n",
    "hmp4040.write('VOLT 4')\n"
   ]
  },
  {
   "cell_type": "code",
   "execution_count": 51,
   "metadata": {},
   "outputs": [
    {
     "data": {
      "text/plain": [
       "8"
      ]
     },
     "execution_count": 51,
     "metadata": {},
     "output_type": "execute_result"
    }
   ],
   "source": [
    "hmp4040.write('INST OUT3')\n",
    "\n",
    "hmp4040.write('VOLT 3')"
   ]
  },
  {
   "cell_type": "code",
   "execution_count": 52,
   "metadata": {},
   "outputs": [
    {
     "data": {
      "text/plain": [
       "8"
      ]
     },
     "execution_count": 52,
     "metadata": {},
     "output_type": "execute_result"
    }
   ],
   "source": [
    "hmp4040.write('INST OUT2')\n",
    "\n",
    "hmp4040.write('VOLT 2')"
   ]
  },
  {
   "cell_type": "code",
   "execution_count": 53,
   "metadata": {},
   "outputs": [
    {
     "data": {
      "text/plain": [
       "9"
      ]
     },
     "execution_count": 53,
     "metadata": {},
     "output_type": "execute_result"
    }
   ],
   "source": [
    "hmp4040.write('INST OUT1')\n",
    "\n",
    "hmp4040.write('VOLT 10')"
   ]
  },
  {
   "attachments": {},
   "cell_type": "markdown",
   "metadata": {},
   "source": [
    "You can set the value of the voltage to its maximum/minimum value"
   ]
  },
  {
   "cell_type": "code",
   "execution_count": 16,
   "metadata": {},
   "outputs": [
    {
     "data": {
      "text/plain": [
       "10"
      ]
     },
     "execution_count": 16,
     "metadata": {},
     "output_type": "execute_result"
    }
   ],
   "source": [
    "hmp4040.write('INST:NSEL 4')\n",
    "\n",
    "hmp4040.write('VOLT MIN')\n",
    "\n",
    "# hmp4040.write('VOLT MIN')\n"
   ]
  },
  {
   "cell_type": "code",
   "execution_count": 17,
   "metadata": {},
   "outputs": [
    {
     "data": {
      "text/plain": [
       "10"
      ]
     },
     "execution_count": 17,
     "metadata": {},
     "output_type": "execute_result"
    }
   ],
   "source": [
    "hmp4040.write('INST OUT4')\n",
    "\n",
    "hmp4040.write('VOLT MAX')\n",
    "\n",
    "# hmp4040.write('VOLT MIN')"
   ]
  },
  {
   "attachments": {},
   "cell_type": "markdown",
   "metadata": {},
   "source": [
    "Code to get the information about the current state of the device"
   ]
  },
  {
   "cell_type": "code",
   "execution_count": 18,
   "metadata": {},
   "outputs": [
    {
     "data": {
      "text/plain": [
       "'ROHDE&SCHWARZ,HMP4040,107581,HW50020003/SW2.62\\n'"
      ]
     },
     "execution_count": 18,
     "metadata": {},
     "output_type": "execute_result"
    }
   ],
   "source": [
    "hmp4040.query(\"*IDN?\")"
   ]
  },
  {
   "attachments": {},
   "cell_type": "markdown",
   "metadata": {},
   "source": [
    "Increases/decreases the voltage in the given output channel by given steps"
   ]
  },
  {
   "cell_type": "code",
   "execution_count": 30,
   "metadata": {},
   "outputs": [
    {
     "data": {
      "text/plain": [
       "9"
      ]
     },
     "execution_count": 30,
     "metadata": {},
     "output_type": "execute_result"
    }
   ],
   "source": [
    "hmp4040.write('INST OUT2')\n",
    "hmp4040.write('VOLT:STEP 6')\n",
    "hmp4040.write('VOLT UP')\n",
    "# hmp4040.write('VOLT DOWN')\n"
   ]
  },
  {
   "attachments": {},
   "cell_type": "markdown",
   "metadata": {},
   "source": [
    "## Modifying the Current"
   ]
  },
  {
   "attachments": {},
   "cell_type": "markdown",
   "metadata": {},
   "source": [
    "You can modify the current in the same way as the Voltage"
   ]
  },
  {
   "cell_type": "code",
   "execution_count": 31,
   "metadata": {},
   "outputs": [
    {
     "data": {
      "text/plain": [
       "8"
      ]
     },
     "execution_count": 31,
     "metadata": {},
     "output_type": "execute_result"
    }
   ],
   "source": [
    "hmp4040.write('INST OUT4')\n",
    "\n",
    "hmp4040.write('CURR 1')"
   ]
  },
  {
   "attachments": {},
   "cell_type": "markdown",
   "metadata": {},
   "source": [
    "# Just doing simple controlling stuff "
   ]
  },
  {
   "cell_type": "code",
   "execution_count": 32,
   "metadata": {},
   "outputs": [
    {
     "data": {
      "text/plain": [
       "8"
      ]
     },
     "execution_count": 32,
     "metadata": {},
     "output_type": "execute_result"
    }
   ],
   "source": [
    "\n",
    "hmp4040.write('INST OUT3')\n",
    "hmp4040.write('OUTP:SEL 3')\n",
    "hmp4040.write('OUTP 3')\n"
   ]
  },
  {
   "cell_type": "code",
   "execution_count": 33,
   "metadata": {},
   "outputs": [
    {
     "data": {
      "text/plain": [
       "10"
      ]
     },
     "execution_count": 33,
     "metadata": {},
     "output_type": "execute_result"
    }
   ],
   "source": [
    "\n",
    "hmp4040.write('INST:NSEL 3')\n",
    "hmp4040.write('VOLT 1')\n",
    "hmp4040.write('CURR 0.1')\n",
    "hmp4040.write('OUTP 3')\n",
    "hmp4040.write('OUTP ON')\n",
    "hmp4040.write('OUTP OFF')\n",
    "\n",
    "\n",
    "\n",
    "\n",
    "\n",
    "\n",
    "hmp4040.write('INST:NSEL 4')\n",
    "hmp4040.write('VOLT 1')\n",
    "hmp4040.write('CURR 0.2')\n",
    "hmp4040.write('OUTP 4')\n",
    "hmp4040.write('OUTP ON')\n",
    "hmp4040.write('OUTP OFF')\n",
    "\n"
   ]
  },
  {
   "cell_type": "code",
   "execution_count": 63,
   "metadata": {},
   "outputs": [
    {
     "data": {
      "text/plain": [
       "10"
      ]
     },
     "execution_count": 63,
     "metadata": {},
     "output_type": "execute_result"
    }
   ],
   "source": [
    "hmp4040.write('OUTP OFF')\n"
   ]
  },
  {
   "cell_type": "code",
   "execution_count": 67,
   "metadata": {},
   "outputs": [
    {
     "data": {
      "text/plain": [
       "10"
      ]
     },
     "execution_count": 67,
     "metadata": {},
     "output_type": "execute_result"
    }
   ],
   "source": [
    "hmp4040.write('SYST:REM')"
   ]
  },
  {
   "cell_type": "code",
   "execution_count": 68,
   "metadata": {},
   "outputs": [],
   "source": [
    "hmp4040.close()"
   ]
  },
  {
   "cell_type": "code",
   "execution_count": 35,
   "metadata": {},
   "outputs": [
    {
     "name": "stdout",
     "output_type": "stream",
     "text": [
      "Voltage: 0.000\n",
      "\n",
      "Current: ROHDE&SCHWARZ,HMP4040,107581,HW50020003/SW2.62\n",
      "\n"
     ]
    }
   ],
   "source": [
    "\n",
    "\n",
    "# Activate a specific channel (e.g., Channel 1)\n",
    "hmp4040.write('INST OUT1')\n",
    "\n",
    "# Set the voltage\n",
    "hmp4040.write('VOLT 12.0')\n",
    "\n",
    "# Set the current limit\n",
    "hmp4040.write('CURR 2.0')\n",
    "\n",
    "# Enable the output\n",
    "hmp4040.write('OUTP ON')\n",
    "\n",
    "# Read the voltage and current values from the channel\n",
    "voltage = hmp4040.query('MEAS:VOLT?')\n",
    "current = hmp4040.query('MEAS:CURR?')\n",
    "print('Voltage:', voltage)\n",
    "print('Current:', current)\n",
    "\n",
    "# Disable the output\n",
    "hmp4040.write('OUTP OFF')\n",
    "\n",
    "# Close the connection\n",
    "hmp4040.close()\n"
   ]
  },
  {
   "attachments": {},
   "cell_type": "markdown",
   "metadata": {},
   "source": [
    "# Some random stuff\n"
   ]
  },
  {
   "cell_type": "code",
   "execution_count": 34,
   "metadata": {},
   "outputs": [
    {
     "data": {
      "text/plain": [
       "'ROHDE&SCHWARZ,HMP4040,107581,HW50020003/SW2.62\\n'"
      ]
     },
     "execution_count": 34,
     "metadata": {},
     "output_type": "execute_result"
    }
   ],
   "source": [
    "\n",
    "hmp4040.query('VOLT?')\n"
   ]
  },
  {
   "cell_type": "code",
   "execution_count": 37,
   "metadata": {},
   "outputs": [
    {
     "data": {
      "text/plain": [
       "11"
      ]
     },
     "execution_count": 37,
     "metadata": {},
     "output_type": "execute_result"
    }
   ],
   "source": [
    "hmp4040.write('INST OUT1')\n",
    "hmp4040.write('VOLT? MIN')"
   ]
  },
  {
   "cell_type": "code",
   "execution_count": 95,
   "metadata": {},
   "outputs": [
    {
     "data": {
      "text/plain": [
       "12"
      ]
     },
     "execution_count": 95,
     "metadata": {},
     "output_type": "execute_result"
    }
   ],
   "source": [
    "hmp4040.write('VOLT:STEP?')"
   ]
  },
  {
   "attachments": {},
   "cell_type": "markdown",
   "metadata": {},
   "source": [
    "## Unused code\n"
   ]
  },
  {
   "cell_type": "code",
   "execution_count": 10,
   "metadata": {},
   "outputs": [
    {
     "name": "stdout",
     "output_type": "stream",
     "text": [
      "Resource 1: USB0::0x1AB1::0x0642::DG1ZA204104808::INSTR\n",
      "Resource 2: USB0::0x1AB1::0x0642::DG1ZA204104808::INSTR\n",
      "Resource 3: TCPIP0::A-34461A-00000::hislip0::INSTR\n",
      "Resource 4: TCPIP0::A-34461A-00000::inst0::INSTR\n",
      "Resource 5: TCPIP0::A-34461A-0000-2.local::hislip0::INSTR\n",
      "Resource 6: TCPIP0::A-34461A-0000-2.local::inst0::INSTR\n",
      "Resource 7: ASRL1::INSTR\n",
      "Resource 8: ASRL3::INSTR\n",
      "('USB0::0x1AB1::0x0642::DG1ZA204104808::INSTR', 'USB0::0x1AB1::0x0642::DG1ZA204104808::INSTR', 'TCPIP0::A-34461A-00000::hislip0::INSTR', 'TCPIP0::A-34461A-00000::inst0::INSTR', 'TCPIP0::A-34461A-0000-2.local::hislip0::INSTR', 'TCPIP0::A-34461A-0000-2.local::inst0::INSTR', 'ASRL1::INSTR', 'ASRL3::INSTR')\n",
      "USB0::0x1AB1::0x0642::DG1ZA204104808::INSTR I am not of your use.\n"
     ]
    },
    {
     "ename": "AttributeError",
     "evalue": "'str' object has no attribute 'query'",
     "output_type": "error",
     "traceback": [
      "\u001b[1;31m---------------------------------------------------------------------------\u001b[0m",
      "\u001b[1;31mAttributeError\u001b[0m                            Traceback (most recent call last)",
      "Cell \u001b[1;32mIn[10], line 32\u001b[0m\n\u001b[0;32m     26\u001b[0m     \u001b[39mprint\u001b[39m(resource, \u001b[39m\"\u001b[39m\u001b[39mI am not of your use.\u001b[39m\u001b[39m\"\u001b[39m)\n\u001b[0;32m     30\u001b[0m \u001b[39mfor\u001b[39;00m resource \u001b[39min\u001b[39;00m resources:\n\u001b[1;32m---> 32\u001b[0m     idn \u001b[39m=\u001b[39m resource\u001b[39m.\u001b[39;49mquery(\u001b[39m'\u001b[39m\u001b[39m*IDN?\u001b[39m\u001b[39m'\u001b[39m)\n\u001b[0;32m     33\u001b[0m     \u001b[39mprint\u001b[39m(\u001b[39m'\u001b[39m\u001b[39mHello, I am: \u001b[39m\u001b[39m'\u001b[39m \u001b[39m+\u001b[39m idn)\n",
      "\u001b[1;31mAttributeError\u001b[0m: 'str' object has no attribute 'query'"
     ]
    }
   ],
   "source": [
    "import pyvisa\n",
    "from RsInstrument import *\n",
    "\n",
    "# Initialize the VISA resource manager\n",
    "rm = pyvisa.ResourceManager()\n",
    "\n",
    "# List all available resources\n",
    "resources = rm.list_resources()\n",
    "\n",
    "# Print the list of resources\n",
    "for idx, resource in enumerate(resources, start=1):\n",
    "    print(f\"Resource {idx}: {resource}\")\n",
    "\n",
    "# Close the resource manager\n",
    "rm.close()\n",
    "print(resources)\n",
    "\n",
    "try :\n",
    "    for resource in resources:\n",
    "        \n",
    "        idn = resource.query('*IDN?')\n",
    "        print('Hello, I am: ' + idn)\n",
    "\n",
    "    \n",
    "except:\n",
    "    print(resource, \"I am not of your use.\")\n",
    "\n",
    "\n",
    "    \n",
    "for resource in resources:\n",
    "    \n",
    "    idn = resource.query('*IDN?')\n",
    "    print('Hello, I am: ' + idn)\n",
    "\n",
    "\n"
   ]
  },
  {
   "cell_type": "code",
   "execution_count": 40,
   "metadata": {},
   "outputs": [
    {
     "name": "stdout",
     "output_type": "stream",
     "text": [
      "hello\n",
      "I am  SerialInstrument at ASRL3::INSTR and my identity is  ROHDE&SCHWARZ,HMP4040,107581,HW50020003/SW2.62\n",
      "\n",
      "SerialInstrument at ASRL3::INSTR\n"
     ]
    }
   ],
   "source": [
    "import time\n",
    "import pyvisa\n",
    "\n",
    "# Initialize the VISA resource manager\n",
    "rm = pyvisa.ResourceManager()\n",
    "\n",
    "# List all available resources\n",
    "resources = rm.list_resources()\n",
    "\n",
    "\n",
    "# hmp4040 = rm.open_resource(\"ASRL3::INSTR\")\n",
    "# print(hmp4040.query(\"*IDN?\"))\n",
    "\n",
    "\n",
    "# Code to find out the powersupply HMP4040 from the bunch of devices connected to the pc\n",
    "for resource in resources:\n",
    "    try:\n",
    "        device = rm.open_resource(resource)\n",
    "        y = device.query(\"*IDN?\")\n",
    "        if 'HMP4040' in y:\n",
    "            print(\"hello\")\n",
    "            hmp4040 = device\n",
    "            print(\"I am \", hmp4040, \"and my identity is \", y )\n",
    "        \n",
    "\n",
    "    except:\n",
    "        pass\n",
    "print(hmp4040)\n",
    "\n",
    "hmp4040.write('INST OUT4')\n",
    "\n",
    "hmp4040.write('VOLT MAX')\n",
    "hmp4040.close()"
   ]
  },
  {
   "cell_type": "code",
   "execution_count": 42,
   "metadata": {},
   "outputs": [
    {
     "ename": "AttributeError",
     "evalue": "type object 'hmp4040' has no attribute 'close'",
     "output_type": "error",
     "traceback": [
      "\u001b[1;31m---------------------------------------------------------------------------\u001b[0m",
      "\u001b[1;31mAttributeError\u001b[0m                            Traceback (most recent call last)",
      "Cell \u001b[1;32mIn[42], line 1\u001b[0m\n\u001b[1;32m----> 1\u001b[0m hmp4040\u001b[39m.\u001b[39;49mclose()\n",
      "\u001b[1;31mAttributeError\u001b[0m: type object 'hmp4040' has no attribute 'close'"
     ]
    }
   ],
   "source": [
    "hmp4040.close()"
   ]
  },
  {
   "cell_type": "code",
   "execution_count": 41,
   "metadata": {},
   "outputs": [
    {
     "name": "stdout",
     "output_type": "stream",
     "text": [
      "hello\n",
      "I am  SerialInstrument at ASRL3::INSTR and my identity is  ROHDE&SCHWARZ,HMP4040,107581,HW50020003/SW2.62\n",
      "\n"
     ]
    }
   ],
   "source": [
    "import time\n",
    "import pyvisa\n",
    "import numpy\n",
    "\n",
    "class hmp4040():\n",
    "\n",
    "    \n",
    "    "
   ]
  }
 ],
 "metadata": {
  "kernelspec": {
   "display_name": "Python 3",
   "language": "python",
   "name": "python3"
  },
  "language_info": {
   "codemirror_mode": {
    "name": "ipython",
    "version": 3
   },
   "file_extension": ".py",
   "mimetype": "text/x-python",
   "name": "python",
   "nbconvert_exporter": "python",
   "pygments_lexer": "ipython3",
   "version": "3.11.4"
  },
  "orig_nbformat": 4
 },
 "nbformat": 4,
 "nbformat_minor": 2
}
